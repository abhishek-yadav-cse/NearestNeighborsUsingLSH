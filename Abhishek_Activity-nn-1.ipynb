{
 "cells": [
  {
   "cell_type": "markdown",
   "metadata": {},
   "source": [
    "## Approximate Nearest Neighbors using LSH\n",
    "\n",
    "This notebook will show the give and take between building multiple hash tables and employing multiple hash functions when searching for approximate neighbors using LSH. The demonstration is meant to clarify slide 12 from slide deck 3, on Nearest Neighbors.\n",
    "\n",
    "I have written a basic LSH implementation in Python, with instantiations for the cosine similarity, Hamming distance, and the Jaccard coefficient LSH families. The code is written in OOP style and can be easily extended to other LSH families. Take a look at lsh.py for the details. In this demo, we will be using the cosine similarity version of the LSH data structure, *clsh*."
   ]
  },
  {
   "cell_type": "code",
   "execution_count": 30,
   "metadata": {},
   "outputs": [
    {
     "name": "stdout",
     "output_type": "stream",
     "text": [
      "The autoreload extension is already loaded. To reload it, use:\n",
      "  %reload_ext autoreload\n"
     ]
    }
   ],
   "source": [
    "%load_ext autoreload\n",
    "%autoreload 2\n",
    "import time\n",
    "import numpy as np\n",
    "from lsh import clsh, jlsh, generateSamples, findNeighborsBrute, recall"
   ]
  },
  {
   "cell_type": "markdown",
   "metadata": {},
   "source": [
    "First, we will generate some random samples, and split the data into train (X) and test (Y) subsets. Samples are generated from 100 gausian blobs, i.e., points will be fairly spread out as far as their cosine similarity is concerned."
   ]
  },
  {
   "cell_type": "code",
   "execution_count": 31,
   "metadata": {},
   "outputs": [
    {
     "name": "stdout",
     "output_type": "stream",
     "text": [
      "(900, 100) (100, 100)\n"
     ]
    }
   ],
   "source": [
    "X, Y = generateSamples(nsamples=1000, nfeatures=100, nclusters=64, clusterstd=50, binary=False)\n",
    "print(X.shape, Y.shape)"
   ]
  },
  {
   "cell_type": "markdown",
   "metadata": {},
   "source": [
    "The basic concept in LSH is that of *hashing* the vectors using a random LSH family of hash functions. As we discussed in class, the LSH families will be more likely to assign the same hash value to similar items. This, however, does not happen all the time. First, let's see what the result of hashing a vector looks like."
   ]
  },
  {
   "cell_type": "code",
   "execution_count": 32,
   "metadata": {},
   "outputs": [
    {
     "name": "stdout",
     "output_type": "stream",
     "text": [
      "0\n",
      "1\n",
      "1\n",
      "0\n",
      "0\n",
      "0\n",
      "0\n",
      "1\n",
      "1\n",
      "1\n"
     ]
    }
   ],
   "source": [
    "L11 = clsh(X, ntables=1, nfunctions=1)\n",
    "for i in range(10):\n",
    "    print(L11.hash(X[i,:]))"
   ]
  },
  {
   "cell_type": "markdown",
   "metadata": {},
   "source": [
    "As shown in slide 18, the output of the cosine family of LSH function is binary, depending on the sign of the dot-product $\\langle r,x\\rangle$ between the random unit vector $r$ and our input vector $x=X[i,:]$.\n",
    "\n",
    "Note that we created a single table in our LSH data structure and are using a single LSH function to hash vectors. This means that we're simply partitioning vectors into two buckets. Some vectors will go to the bucket with ID 0, and others will go to the bucket with ID 1.\n",
    "\n",
    "When we instantiated the LSH data structure *L*, all the vectors in X were already assigned to their respective buckets. Let's see how many vectors each bucket has."
   ]
  },
  {
   "cell_type": "code",
   "execution_count": 33,
   "metadata": {},
   "outputs": [
    {
     "name": "stdout",
     "output_type": "stream",
     "text": [
      "Bucket ID 0 has 448 vectors.\n",
      "Bucket ID 1 has 452 vectors.\n"
     ]
    }
   ],
   "source": [
    "print(\"Bucket ID 0 has %d vectors.\" % len(L11.tables[0]['0']))\n",
    "print(\"Bucket ID 1 has %d vectors.\" % len(L11.tables[0]['1']))"
   ]
  },
  {
   "cell_type": "markdown",
   "metadata": {},
   "source": [
    "Now, when it's time to find neighbors for a new vector, say $y=Y[0,:]$, the first vector in our test set, we hash the vector to see which bucket we should look in to find neighbors."
   ]
  },
  {
   "cell_type": "code",
   "execution_count": 34,
   "metadata": {},
   "outputs": [
    {
     "name": "stdout",
     "output_type": "stream",
     "text": [
      "0\n"
     ]
    }
   ],
   "source": [
    "print(L11.hash(Y[0,:], tid=0, fid=0))"
   ]
  },
  {
   "cell_type": "markdown",
   "metadata": {},
   "source": [
    "Note that I passed in the ID of the table I'm searching in and the ID of the function I'm hashing with. For LSH to work, we have to use the same hashing functions that were used to create the table(s). Therefore, $clsh$ stores the randomly generated functions it created for each table.\n",
    "\n",
    "Now, it looks like I have to compare $y$ against almost half of the vectors in $X$, which is a lot, and leads to low *precision*. Precision is the fraction of retrieved instances (the vectors we compared against) that are relevant (that would also be in the exact result). Since the number of objects we're comparing against is high, precision will be low. In order to increase the precision, I can use several hash functions and concatenate their results. Increasing the precision will also reduc the amount of time spent finding neighbors, as we will have fewer objects to compare against.\n",
    "\n",
    "Let's say I use 2 hash functions from the Cosine LSH family. Then, the possible resulting hash values would be 00, 01, 10, and 11, spliting the vectors in X into 4 buckets (instead of 2, when we used 1 function). If we use 3 functions, we get 8 buckets. In general, using $f$ functions will split the \"search space\" into $2^f$ buckets.\n",
    "\n",
    "Let's try this using 3 functions."
   ]
  },
  {
   "cell_type": "code",
   "execution_count": 35,
   "metadata": {},
   "outputs": [
    {
     "name": "stdout",
     "output_type": "stream",
     "text": [
      "Bucket ID 111 has 126 vectors.\n",
      "Bucket ID 100 has 131 vectors.\n",
      "Bucket ID 000 has 132 vectors.\n",
      "Bucket ID 110 has 101 vectors.\n",
      "Bucket ID 011 has 107 vectors.\n",
      "Bucket ID 001 has 94 vectors.\n",
      "Bucket ID 101 has 108 vectors.\n",
      "Bucket ID 010 has 101 vectors.\n",
      "\n",
      "We only need to compare y against vectors in bucket 110.\n"
     ]
    }
   ],
   "source": [
    "L13 = clsh(X, ntables=1, nfunctions=3)\n",
    "for k in L13.tables[0].keys():\n",
    "    print(\"Bucket ID %s has %d vectors.\" % (k, len(L13.tables[0][k])))\n",
    "    \n",
    "print(\"\\nWe only need to compare y against vectors in bucket %s.\" % L13.signature(Y[0,:], tid=0))"
   ]
  },
  {
   "cell_type": "markdown",
   "metadata": {},
   "source": [
    "**Side note**: Note that in this academic LSH implementation we use a simple way to generate bucket IDs. We concatenate the string representation of the resulting hash value from each hash function. LSH libraries often implement a secondary (exact) hash function for generating numeric IDs for the buckets. A similar scheme is proposed in the LSH reference I nored on Canvas: [SPM'08] Malcolm Slaney and Michael Casey. Locality-Sensitive Hashing for Finding Nearest Neighbors. Lecture Notes. IEEE Signal Processing Magazine, 2008.\n",
    "\n",
    "It is easy to see we now have much fewer vectors to compare against when we search for $y$'s neighbors. However, some of the true neighbors may have been accidentally placed in other buckets, which lowers *recall*. Recall (also known in Statistics references as *sensitivity*) is the fraction of relevant instances that are retrieved, i.e., the fraction of true neighbors in our top-$k$ divided by $k$. \n",
    "\n",
    "Let's compare the mean recall for finding neighbors using 1 hash function vs. 3 hash functions. To do that, we will first have to find the \"true neighbors\"."
   ]
  },
  {
   "cell_type": "code",
   "execution_count": 36,
   "metadata": {},
   "outputs": [
    {
     "name": "stdout",
     "output_type": "stream",
     "text": [
      "Number of computed similarities for the brute-force approach: 90000.\n",
      "Recall with 1 hash function: 0.562000. Number of computed similarities: 44988.\n",
      "Recall with 3 hash functions: 0.161800. Number of computed similarities: 11384.\n"
     ]
    }
   ],
   "source": [
    "k = 100  # number of neighbors to find\n",
    "nbrsExact = findNeighborsBrute(X, Y, k=k, sim=\"cos\")\n",
    "print(\"Number of computed similarities for the brute-force approach: %d.\" % (X.shape[0] * Y.shape[0]))\n",
    "nbrsTest11  = L11.findNeighbors(Y, k=k)\n",
    "nbrsTest13  = L13.findNeighbors(Y, k=k)\n",
    "print(\"Recall with 1 hash function: %f. Number of computed similarities: %d.\" % (recall(nbrsTest11, nbrsExact), L11.nsims))\n",
    "print(\"Recall with 3 hash functions: %f. Number of computed similarities: %d.\" % (recall(nbrsTest13, nbrsExact), L13.nsims))"
   ]
  },
  {
   "cell_type": "markdown",
   "metadata": {},
   "source": [
    "We can increase the recall by building several LSH tables instead of one. Then, instead of looking in one bucket for $y$'s neighbors, we will be looking in one bucket in each table. The search method gets the set union of object IDs in all these buckets, and then computes similarities against all of them.\n",
    "\n",
    "### Excercise 1\n",
    "\n",
    "Compare the mean recall for finding neighbors using 1 table vs. 3 tables, when each table uses 3 hash functions."
   ]
  },
  {
   "cell_type": "code",
   "execution_count": 37,
   "metadata": {
    "scrolled": true
   },
   "outputs": [
    {
     "name": "stdout",
     "output_type": "stream",
     "text": [
      "Number of computed similarities for the brute-force approach: 90000.\n",
      "Recall with 1 table and 3 hash functions: 0.161800. Number of computed similarities: 11384.\n",
      "Recall with 3 tables and 3 hash functions: 0.562000. Number of computed similarities: 29942.\n"
     ]
    }
   ],
   "source": [
    "L33 = clsh(X, ntables=3, nfunctions=3)\n",
    "k = 100  # number of neighbors to find\n",
    "nbrsExact = findNeighborsBrute(X, Y, k=k, sim=\"cos\")\n",
    "print(\"Number of computed similarities for the brute-force approach: %d.\" % (X.shape[0] * Y.shape[0]))\n",
    "nbrsTest13  = L13.findNeighbors(Y, k=k)\n",
    "nbrsTest33  = L33.findNeighbors(Y, k=k)\n",
    "print(\"Recall with 1 table and 3 hash functions: %f. Number of computed similarities: %d.\" % (recall(nbrsTest13, nbrsExact), L13.nsims))\n",
    "print(\"Recall with 3 tables and 3 hash functions: %f. Number of computed similarities: %d.\" % (recall(nbrsTest11, nbrsExact), L33.nsims))"
   ]
  },
  {
   "cell_type": "markdown",
   "metadata": {},
   "source": [
    "Given high enough # tables and # hashes (hash functions), we can achieve high recall and precision, sometimes at the expense of efficiency.\n",
    "\n",
    "### Excercise 2\n",
    "\n",
    "Find the minimum number of tables necessary to obtain `recall` of at least `0.90` using 3 functions. What is the number of computed similarities for that LSH forest?"
   ]
  },
  {
   "cell_type": "code",
   "execution_count": 38,
   "metadata": {},
   "outputs": [
    {
     "name": "stdout",
     "output_type": "stream",
     "text": [
      "13\n",
      " Number of computed similarities: 73643.\n"
     ]
    }
   ],
   "source": [
    "x=1\n",
    "while True:\n",
    "    Ln3 = clsh(X, ntables=x, nfunctions=3)\n",
    "    k = 100  # number of neighbors to find\n",
    "    nbrsExact = findNeighborsBrute(X, Y, k=k, sim=\"cos\")\n",
    "    nbrsTestn3  = Ln3.findNeighbors(Y, k=k)\n",
    "    if recall(nbrsTestn3, nbrsExact)>=0.9:\n",
    "        break\n",
    "    x=x+1\n",
    "print(x)\n",
    "print(\" Number of computed similarities: %d.\" % ( Ln3.nsims))"
   ]
  },
  {
   "cell_type": "markdown",
   "metadata": {},
   "source": [
    "### Exercise 3\n",
    "\n",
    "Repeat Exrcise 1 and 2 using `Jaccard Coefficient` instead of `cosine similarity`. Note that you will need to re-generate samples using the `binary=True` parameter and re-compute `nbrsExact` for the new similarity measure."
   ]
  },
  {
   "cell_type": "code",
   "execution_count": 39,
   "metadata": {},
   "outputs": [
    {
     "name": "stdout",
     "output_type": "stream",
     "text": [
      "Bucket ID 2054 has 5 vectors.\n",
      "Bucket ID 66504 has 38 vectors.\n",
      "Bucket ID 665062 has 59 vectors.\n",
      "Bucket ID 27520 has 1 vectors.\n",
      "Bucket ID 2062 has 51 vectors.\n",
      "Bucket ID 66062 has 118 vectors.\n",
      "Bucket ID 6604 has 60 vectors.\n",
      "Bucket ID 292356 has 1 vectors.\n",
      "Bucket ID 26262 has 32 vectors.\n",
      "Bucket ID 6404 has 1 vectors.\n",
      "Bucket ID 25062 has 38 vectors.\n",
      "Bucket ID 666262 has 48 vectors.\n",
      "Bucket ID 66069 has 21 vectors.\n",
      "Bucket ID 667854 has 3 vectors.\n",
      "Bucket ID 662369 has 8 vectors.\n",
      "Bucket ID 2904 has 10 vectors.\n",
      "Bucket ID 66054 has 9 vectors.\n",
      "Bucket ID 25504 has 2 vectors.\n",
      "Bucket ID 204 has 31 vectors.\n",
      "Bucket ID 662320 has 6 vectors.\n",
      "Bucket ID 76324 has 1 vectors.\n",
      "Bucket ID 76054 has 1 vectors.\n",
      "Bucket ID 76504 has 6 vectors.\n",
      "Bucket ID 64033 has 1 vectors.\n",
      "Bucket ID 665069 has 15 vectors.\n",
      "Bucket ID 766262 has 9 vectors.\n",
      "Bucket ID 29784 has 3 vectors.\n",
      "Bucket ID 66056 has 2 vectors.\n",
      "Bucket ID 22354 has 2 vectors.\n",
      "Bucket ID 66079 has 1 vectors.\n",
      "Bucket ID 665056 has 1 vectors.\n",
      "Bucket ID 64504 has 4 vectors.\n",
      "Bucket ID 66095 has 2 vectors.\n",
      "Bucket ID 2784 has 3 vectors.\n",
      "Bucket ID 66033 has 3 vectors.\n",
      "Bucket ID 29069 has 7 vectors.\n",
      "Bucket ID 662395 has 2 vectors.\n",
      "Bucket ID 76062 has 14 vectors.\n",
      "Bucket ID 66234 has 15 vectors.\n",
      "Bucket ID 66020 has 14 vectors.\n",
      "Bucket ID 76069 has 1 vectors.\n",
      "Bucket ID 292369 has 3 vectors.\n",
      "Bucket ID 2234 has 4 vectors.\n",
      "Bucket ID 29062 has 19 vectors.\n",
      "Bucket ID 29234 has 7 vectors.\n",
      "Bucket ID 255062 has 4 vectors.\n",
      "Bucket ID 25324 has 1 vectors.\n",
      "Bucket ID 295069 has 5 vectors.\n",
      "Bucket ID 22320 has 2 vectors.\n",
      "Bucket ID 66784 has 5 vectors.\n",
      "Bucket ID 7604 has 9 vectors.\n",
      "Bucket ID 297869 has 1 vectors.\n",
      "Bucket ID 626262 has 6 vectors.\n",
      "Bucket ID 25069 has 7 vectors.\n",
      "Bucket ID 665020 has 9 vectors.\n",
      "Bucket ID 256262 has 5 vectors.\n",
      "Bucket ID 2069 has 13 vectors.\n",
      "Bucket ID 295062 has 8 vectors.\n",
      "Bucket ID 2504 has 16 vectors.\n",
      "Bucket ID 665369 has 3 vectors.\n",
      "Bucket ID 50504 has 1 vectors.\n",
      "Bucket ID 22369 has 4 vectors.\n",
      "Bucket ID 296262 has 17 vectors.\n",
      "Bucket ID 27195 has 1 vectors.\n",
      "Bucket ID 25020 has 3 vectors.\n",
      "Bucket ID 667869 has 3 vectors.\n",
      "Bucket ID 765062 has 10 vectors.\n",
      "Bucket ID 665320 has 1 vectors.\n",
      "Bucket ID 25234 has 1 vectors.\n",
      "Bucket ID 2020 has 6 vectors.\n",
      "Bucket ID 64069 has 1 vectors.\n",
      "Bucket ID 66047 has 2 vectors.\n",
      "Bucket ID 29504 has 5 vectors.\n",
      "Bucket ID 663269 has 1 vectors.\n",
      "Bucket ID 667820 has 6 vectors.\n",
      "Bucket ID 667847 has 1 vectors.\n",
      "Bucket ID 297556 has 1 vectors.\n",
      "Bucket ID 2056 has 2 vectors.\n",
      "Bucket ID 29020 has 4 vectors.\n",
      "Bucket ID 292395 has 1 vectors.\n",
      "Bucket ID 297554 has 1 vectors.\n",
      "Bucket ID 62062 has 6 vectors.\n",
      "Bucket ID 63234 has 1 vectors.\n",
      "Bucket ID 29324 has 1 vectors.\n",
      "Bucket ID 665054 has 6 vectors.\n",
      "Bucket ID 625062 has 2 vectors.\n",
      "Bucket ID 767895 has 1 vectors.\n",
      "Bucket ID 665095 has 2 vectors.\n",
      "Bucket ID 66714 has 1 vectors.\n",
      "Bucket ID 667120 has 1 vectors.\n",
      "Bucket ID 295054 has 1 vectors.\n",
      "Bucket ID 7404 has 1 vectors.\n",
      "Bucket ID 645020 has 1 vectors.\n",
      "Bucket ID 295033 has 2 vectors.\n",
      "Bucket ID 25054 has 1 vectors.\n",
      "Bucket ID 662354 has 2 vectors.\n",
      "Bucket ID 667154 has 1 vectors.\n",
      "Bucket ID 667169 has 1 vectors.\n",
      "Bucket ID 27854 has 1 vectors.\n",
      "Bucket ID 76234 has 1 vectors.\n",
      "Bucket ID 76056 has 1 vectors.\n",
      "Bucket ID 765354 has 1 vectors.\n",
      "Bucket ID 295020 has 1 vectors.\n",
      "Bucket ID 29054 has 1 vectors.\n",
      "Bucket ID 255069 has 1 vectors.\n",
      "Bucket ID 637869 has 1 vectors.\n",
      "Bucket ID 27856 has 2 vectors.\n",
      "Bucket ID 667520 has 1 vectors.\n",
      "Bucket ID 66754 has 1 vectors.\n",
      "Bucket ID 2754 has 2 vectors.\n",
      "Bucket ID 765020 has 2 vectors.\n",
      "Bucket ID 76784 has 1 vectors.\n",
      "Bucket ID 27820 has 1 vectors.\n",
      "Bucket ID 76047 has 1 vectors.\n",
      "Bucket ID 29754 has 1 vectors.\n",
      "Bucket ID 66534 has 1 vectors.\n",
      "Bucket ID 644559 has 27 vectors.\n",
      "Bucket ID 564559 has 59 vectors.\n",
      "Bucket ID 565038 has 28 vectors.\n",
      "Bucket ID 34599 has 2 vectors.\n",
      "Bucket ID 565059 has 16 vectors.\n",
      "Bucket ID 564515 has 19 vectors.\n",
      "Bucket ID 644599 has 11 vectors.\n",
      "Bucket ID 643459 has 12 vectors.\n",
      "Bucket ID 563499 has 11 vectors.\n",
      "Bucket ID 565638 has 14 vectors.\n",
      "Bucket ID 643438 has 27 vectors.\n",
      "Bucket ID 644538 has 50 vectors.\n",
      "Bucket ID 504599 has 8 vectors.\n",
      "Bucket ID 563438 has 60 vectors.\n",
      "Bucket ID 568138 has 5 vectors.\n",
      "Bucket ID 564538 has 116 vectors.\n",
      "Bucket ID 563459 has 22 vectors.\n",
      "Bucket ID 64938 has 1 vectors.\n",
      "Bucket ID 503438 has 18 vectors.\n",
      "Bucket ID 565838 has 17 vectors.\n",
      "Bucket ID 568159 has 5 vectors.\n",
      "Bucket ID 563415 has 5 vectors.\n",
      "Bucket ID 647199 has 1 vectors.\n",
      "Bucket ID 504538 has 33 vectors.\n",
      "Bucket ID 645059 has 5 vectors.\n",
      "Bucket ID 64459 has 1 vectors.\n",
      "Bucket ID 644519 has 1 vectors.\n",
      "Bucket ID 944538 has 11 vectors.\n",
      "Bucket ID 343459 has 2 vectors.\n",
      "Bucket ID 503459 has 5 vectors.\n",
      "Bucket ID 564599 has 28 vectors.\n",
      "Bucket ID 34559 has 6 vectors.\n",
      "Bucket ID 64438 has 1 vectors.\n",
      "Bucket ID 344538 has 1 vectors.\n",
      "Bucket ID 774538 has 3 vectors.\n",
      "Bucket ID 943459 has 3 vectors.\n",
      "Bucket ID 645838 has 7 vectors.\n",
      "Bucket ID 505015 has 3 vectors.\n",
      "Bucket ID 944559 has 6 vectors.\n",
      "Bucket ID 643415 has 7 vectors.\n",
      "Bucket ID 565859 has 10 vectors.\n",
      "Bucket ID 943438 has 7 vectors.\n",
      "Bucket ID 563490 has 2 vectors.\n",
      "Bucket ID 343438 has 2 vectors.\n",
      "Bucket ID 565619 has 1 vectors.\n",
      "Bucket ID 563476 has 5 vectors.\n",
      "Bucket ID 945838 has 2 vectors.\n",
      "Bucket ID 35815 has 1 vectors.\n",
      "Bucket ID 344559 has 1 vectors.\n",
      "Bucket ID 564576 has 8 vectors.\n",
      "Bucket ID 565015 has 3 vectors.\n",
      "Bucket ID 343490 has 1 vectors.\n",
      "Bucket ID 643419 has 1 vectors.\n",
      "Bucket ID 944599 has 3 vectors.\n",
      "Bucket ID 565899 has 1 vectors.\n",
      "Bucket ID 945859 has 1 vectors.\n",
      "Bucket ID 645038 has 15 vectors.\n",
      "Bucket ID 503499 has 3 vectors.\n",
      "Bucket ID 505038 has 14 vectors.\n",
      "Bucket ID 944515 has 3 vectors.\n",
      "Bucket ID 644515 has 9 vectors.\n",
      "Bucket ID 38159 has 1 vectors.\n",
      "Bucket ID 33438 has 4 vectors.\n",
      "Bucket ID 504559 has 13 vectors.\n",
      "Bucket ID 34538 has 4 vectors.\n",
      "Bucket ID 644596 has 1 vectors.\n",
      "Bucket ID 565099 has 6 vectors.\n",
      "Bucket ID 642959 has 1 vectors.\n",
      "Bucket ID 3438 has 1 vectors.\n",
      "Bucket ID 647176 has 1 vectors.\n",
      "Bucket ID 565615 has 2 vectors.\n",
      "Bucket ID 505059 has 7 vectors.\n",
      "Bucket ID 648138 has 5 vectors.\n",
      "Bucket ID 505076 has 2 vectors.\n",
      "Bucket ID 645015 has 3 vectors.\n",
      "Bucket ID 564578 has 3 vectors.\n",
      "Bucket ID 945899 has 2 vectors.\n",
      "Bucket ID 563419 has 3 vectors.\n",
      "Bucket ID 645076 has 2 vectors.\n",
      "Bucket ID 178159 has 1 vectors.\n",
      "Bucket ID 948138 has 2 vectors.\n",
      "Bucket ID 505019 has 1 vectors.\n",
      "Bucket ID 35838 has 1 vectors.\n",
      "Bucket ID 643499 has 5 vectors.\n",
      "Bucket ID 773438 has 3 vectors.\n",
      "Bucket ID 564590 has 3 vectors.\n",
      "Bucket ID 564546 has 1 vectors.\n",
      "Bucket ID 565890 has 1 vectors.\n",
      "Bucket ID 942959 has 1 vectors.\n",
      "Bucket ID 565815 has 3 vectors.\n",
      "Bucket ID 564519 has 4 vectors.\n",
      "Bucket ID 175838 has 2 vectors.\n",
      "Bucket ID 645859 has 3 vectors.\n",
      "Bucket ID 505099 has 2 vectors.\n",
      "Bucket ID 645099 has 4 vectors.\n",
      "Bucket ID 372938 has 1 vectors.\n",
      "Bucket ID 504590 has 1 vectors.\n",
      "Bucket ID 374559 has 1 vectors.\n",
      "Bucket ID 568199 has 3 vectors.\n",
      "Bucket ID 943415 has 2 vectors.\n",
      "Bucket ID 94438 has 1 vectors.\n",
      "Bucket ID 774596 has 1 vectors.\n",
      "Bucket ID 568176 has 1 vectors.\n",
      "Bucket ID 644576 has 2 vectors.\n",
      "Bucket ID 504576 has 2 vectors.\n",
      "Bucket ID 174559 has 1 vectors.\n",
      "Bucket ID 503415 has 3 vectors.\n",
      "Bucket ID 35859 has 1 vectors.\n",
      "Bucket ID 643490 has 1 vectors.\n",
      "Bucket ID 777159 has 1 vectors.\n",
      "Bucket ID 647138 has 1 vectors.\n",
      "Bucket ID 565659 has 2 vectors.\n",
      "Bucket ID 644578 has 2 vectors.\n",
      "Bucket ID 565876 has 2 vectors.\n",
      "Bucket ID 645815 has 2 vectors.\n",
      "Bucket ID 568178 has 1 vectors.\n",
      "Bucket ID 947199 has 1 vectors.\n",
      "Bucket ID 343499 has 1 vectors.\n",
      "Bucket ID 648159 has 1 vectors.\n",
      "Bucket ID 568115 has 2 vectors.\n",
      "Bucket ID 344596 has 1 vectors.\n",
      "Bucket ID 3999 has 1 vectors.\n",
      "Bucket ID 33499 has 1 vectors.\n",
      "Bucket ID 775838 has 1 vectors.\n",
      "Bucket ID 943419 has 1 vectors.\n",
      "Bucket ID 504515 has 2 vectors.\n",
      "Bucket ID 565076 has 1 vectors.\n",
      "Bucket ID 943499 has 2 vectors.\n",
      "Bucket ID 175859 has 1 vectors.\n",
      "Bucket ID 34515 has 1 vectors.\n",
      "Bucket ID 645899 has 1 vectors.\n",
      "Bucket ID 774599 has 1 vectors.\n",
      "Bucket ID 644590 has 1 vectors.\n",
      "Bucket ID 479234 has 27 vectors.\n",
      "Bucket ID 479248 has 50 vectors.\n",
      "Bucket ID 124358 has 1 vectors.\n",
      "Bucket ID 634920 has 5 vectors.\n",
      "Bucket ID 19220 has 9 vectors.\n",
      "Bucket ID 634848 has 15 vectors.\n",
      "Bucket ID 474320 has 56 vectors.\n",
      "Bucket ID 639248 has 28 vectors.\n",
      "Bucket ID 479232 has 18 vectors.\n",
      "Bucket ID 954348 has 10 vectors.\n",
      "Bucket ID 474334 has 15 vectors.\n",
      "Bucket ID 732320 has 2 vectors.\n",
      "Bucket ID 474734 has 12 vectors.\n",
      "Bucket ID 474848 has 24 vectors.\n",
      "Bucket ID 734932 has 1 vectors.\n",
      "Bucket ID 734348 has 4 vectors.\n",
      "Bucket ID 63220 has 1 vectors.\n",
      "Bucket ID 479220 has 94 vectors.\n",
      "Bucket ID 474820 has 33 vectors.\n",
      "Bucket ID 479214 has 3 vectors.\n",
      "Bucket ID 959220 has 28 vectors.\n",
      "Bucket ID 639220 has 66 vectors.\n",
      "Bucket ID 734820 has 4 vectors.\n",
      "Bucket ID 474720 has 30 vectors.\n",
      "Bucket ID 739248 has 9 vectors.\n",
      "Bucket ID 954820 has 8 vectors.\n",
      "Bucket ID 954932 has 1 vectors.\n",
      "Bucket ID 739234 has 4 vectors.\n",
      "Bucket ID 634820 has 17 vectors.\n",
      "Bucket ID 474732 has 7 vectors.\n",
      "Bucket ID 634320 has 35 vectors.\n",
      "Bucket ID 954332 has 2 vectors.\n",
      "Bucket ID 204320 has 2 vectors.\n",
      "Bucket ID 739232 has 2 vectors.\n",
      "Bucket ID 14348 has 2 vectors.\n",
      "Bucket ID 474358 has 2 vectors.\n",
      "Bucket ID 959248 has 12 vectors.\n",
      "Bucket ID 474348 has 26 vectors.\n",
      "Bucket ID 954320 has 17 vectors.\n",
      "Bucket ID 159248 has 2 vectors.\n",
      "Bucket ID 739220 has 17 vectors.\n",
      "Bucket ID 632314 has 1 vectors.\n",
      "Bucket ID 959234 has 5 vectors.\n",
      "Bucket ID 244320 has 1 vectors.\n",
      "Bucket ID 639234 has 17 vectors.\n",
      "Bucket ID 732358 has 1 vectors.\n",
      "Bucket ID 959232 has 2 vectors.\n",
      "Bucket ID 959520 has 6 vectors.\n",
      "Bucket ID 634358 has 2 vectors.\n",
      "Bucket ID 954848 has 5 vectors.\n",
      "Bucket ID 479258 has 9 vectors.\n",
      "Bucket ID 209220 has 1 vectors.\n",
      "Bucket ID 14848 has 2 vectors.\n",
      "Bucket ID 479279 has 4 vectors.\n",
      "Bucket ID 14820 has 3 vectors.\n",
      "Bucket ID 634348 has 15 vectors.\n",
      "Bucket ID 153520 has 2 vectors.\n",
      "Bucket ID 244820 has 1 vectors.\n",
      "Bucket ID 14920 has 1 vectors.\n",
      "Bucket ID 154320 has 3 vectors.\n",
      "Bucket ID 634334 has 8 vectors.\n",
      "Bucket ID 474311 has 5 vectors.\n",
      "Bucket ID 954920 has 2 vectors.\n",
      "Bucket ID 124379 has 1 vectors.\n",
      "Bucket ID 19283 has 1 vectors.\n",
      "Bucket ID 634311 has 1 vectors.\n",
      "Bucket ID 634332 has 4 vectors.\n",
      "Bucket ID 634934 has 4 vectors.\n",
      "Bucket ID 632334 has 1 vectors.\n",
      "Bucket ID 639534 has 2 vectors.\n",
      "Bucket ID 734320 has 3 vectors.\n",
      "Bucket ID 633534 has 1 vectors.\n",
      "Bucket ID 474314 has 2 vectors.\n",
      "Bucket ID 639520 has 6 vectors.\n",
      "Bucket ID 159220 has 3 vectors.\n",
      "Bucket ID 639279 has 2 vectors.\n",
      "Bucket ID 959258 has 5 vectors.\n",
      "Bucket ID 19232 has 1 vectors.\n",
      "Bucket ID 734848 has 4 vectors.\n",
      "Bucket ID 734332 has 1 vectors.\n",
      "Bucket ID 14934 has 2 vectors.\n",
      "Bucket ID 633514 has 1 vectors.\n",
      "Bucket ID 129220 has 2 vectors.\n",
      "Bucket ID 639232 has 6 vectors.\n",
      "Bucket ID 474332 has 5 vectors.\n",
      "Bucket ID 954334 has 3 vectors.\n",
      "Bucket ID 734314 has 1 vectors.\n",
      "Bucket ID 474758 has 2 vectors.\n",
      "Bucket ID 14320 has 2 vectors.\n",
      "Bucket ID 634914 has 1 vectors.\n",
      "Bucket ID 633520 has 2 vectors.\n",
      "Bucket ID 154820 has 1 vectors.\n",
      "Bucket ID 639246 has 1 vectors.\n",
      "Bucket ID 14932 has 1 vectors.\n",
      "Bucket ID 204920 has 1 vectors.\n",
      "Bucket ID 479211 has 2 vectors.\n",
      "Bucket ID 731158 has 1 vectors.\n",
      "Bucket ID 13534 has 1 vectors.\n",
      "Bucket ID 739283 has 1 vectors.\n",
      "Bucket ID 639258 has 4 vectors.\n",
      "Bucket ID 959279 has 1 vectors.\n",
      "Bucket ID 124820 has 1 vectors.\n",
      "Bucket ID 474760 has 1 vectors.\n",
      "Bucket ID 959283 has 1 vectors.\n",
      "Bucket ID 19248 has 2 vectors.\n",
      "Bucket ID 954934 has 1 vectors.\n",
      "Bucket ID 634932 has 1 vectors.\n",
      "Bucket ID 639514 has 1 vectors.\n",
      "Bucket ID 739258 has 1 vectors.\n",
      "Bucket ID 734934 has 3 vectors.\n",
      "Bucket ID 954958 has 1 vectors.\n",
      "Bucket ID 959558 has 1 vectors.\n",
      "Bucket ID 154348 has 1 vectors.\n",
      "Bucket ID 124320 has 1 vectors.\n",
      "Bucket ID 19234 has 1 vectors.\n",
      "Bucket ID 634958 has 1 vectors.\n",
      "Bucket ID 12658 has 1 vectors.\n",
      "Bucket ID 731120 has 1 vectors.\n",
      "\n",
      "We only need to compare y against vectors in bucket 66234.\n"
     ]
    },
    {
     "name": "stdout",
     "output_type": "stream",
     "text": [
      "Number of tables 31.\n",
      " Number of computed similarities: 63401.\n"
     ]
    }
   ],
   "source": [
    "X, Y = generateSamples(nsamples=1000, nfeatures=100, nclusters=64, clusterstd=50, binary=True)\n",
    "L33 = jlsh(X, ntables=3, nfunctions=3)\n",
    "for j in range(3):\n",
    "    for k in L33.tables[j].keys():\n",
    "        print(\"Bucket ID %s has %d vectors.\" % (k, len(L33.tables[j][k])))\n",
    "    \n",
    "print(\"\\nWe only need to compare y against vectors in bucket %s.\" % L33.signature(Y[0,:], tid=0))\n",
    "x=1\n",
    "while True:\n",
    "    Ln3 = jlsh(X, ntables=x, nfunctions=3)\n",
    "    k = 100  # number of neighbors to find\n",
    "    nbrsExact = findNeighborsBrute(X, Y, k=k, sim=\"cos\")\n",
    "    nbrsTestn3  = Ln3.findNeighbors(Y, k=k)\n",
    "    if recall(nbrsTestn3, nbrsExact)>=0.9:\n",
    "        break\n",
    "    x=x+1\n",
    "print (\"Number of tables %d.\" %x)\n",
    "print(\" Number of computed similarities: %d.\" % ( Ln3.nsims))"
   ]
  },
  {
   "cell_type": "code",
   "execution_count": null,
   "metadata": {},
   "outputs": [],
   "source": []
  }
 ],
 "metadata": {
  "anaconda-cloud": {},
  "kernelspec": {
   "display_name": "Python 3",
   "language": "python",
   "name": "python3"
  },
  "language_info": {
   "codemirror_mode": {
    "name": "ipython",
    "version": 3
   },
   "file_extension": ".py",
   "mimetype": "text/x-python",
   "name": "python",
   "nbconvert_exporter": "python",
   "pygments_lexer": "ipython3",
   "version": "3.6.4"
  }
 },
 "nbformat": 4,
 "nbformat_minor": 1
}
